{
 "cells": [
  {
   "cell_type": "code",
   "execution_count": 2,
   "metadata": {},
   "outputs": [
    {
     "name": "stdout",
     "output_type": "stream",
     "text": [
      "cuda IS available\n"
     ]
    }
   ],
   "source": [
    "import torch\n",
    "\n",
    "\n",
    "args_cuda = torch.cuda.is_available()\n",
    "args_device = 'cuda:0' if args_cuda else 'cpu'\n",
    "\n",
    "if args_cuda:\n",
    "    print('cuda IS available')\n",
    "else:\n",
    "    print('cuda / GPU not available.')"
   ]
  },
  {
   "cell_type": "code",
   "execution_count": null,
   "metadata": {},
   "outputs": [],
   "source": []
  }
 ],
 "metadata": {
  "kernelspec": {
   "display_name": "Python 3.8.2 - shawn kernel",
   "language": "python",
   "name": "py382-shawn"
  },
  "language_info": {
   "codemirror_mode": {
    "name": "ipython",
    "version": 3
   },
   "file_extension": ".py",
   "mimetype": "text/x-python",
   "name": "python",
   "nbconvert_exporter": "python",
   "pygments_lexer": "ipython3",
   "version": "3.8.2"
  }
 },
 "nbformat": 4,
 "nbformat_minor": 4
}
