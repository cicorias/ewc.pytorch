{
 "cells": [
  {
   "cell_type": "code",
   "execution_count": 1,
   "metadata": {},
   "outputs": [],
   "source": [
    "# To add a new cell, type '# %%'\n",
    "# To add a new markdown cell, type '# %% [markdown]'\n",
    "# %%\n",
    "#% matplotlib inline\n",
    "#import sys\n",
    "#sys.path.append(\"..\") # Adds higher directory to python modules path.\n",
    "\n",
    "import matplotlib.pyplot as plt\n",
    "\n",
    "plt.style.use(\"seaborn-white\")\n",
    "\n",
    "import random\n",
    "import torch\n",
    "from torch import nn\n",
    "import torch.nn.functional as F\n",
    "# from torch.nn import functional as F\n",
    "from torch import optim\n",
    "from tqdm import tqdm\n",
    "\n",
    "from src.data import PermutedMNIST\n",
    "from src.utils import EWC, ewc_train, normal_train, test"
   ]
  },
  {
   "cell_type": "code",
   "execution_count": 2,
   "metadata": {},
   "outputs": [],
   "source": [
    "epochs = 50\n",
    "lr = 1e-3\n",
    "batch_size = 128\n",
    "sample_size = 200\n",
    "hidden_size = 200\n",
    "num_task = 3"
   ]
  },
  {
   "cell_type": "code",
   "execution_count": 3,
   "metadata": {},
   "outputs": [],
   "source": [
    "class MLP(nn.Module):\n",
    "    def __init__(self, hidden_size=400):\n",
    "        super(MLP, self).__init__()\n",
    "        self.fc1 = nn.Linear(28 * 28, hidden_size)\n",
    "        self.fc2 = nn.Linear(hidden_size, hidden_size)\n",
    "        self.fc3 = nn.Linear(hidden_size, hidden_size)\n",
    "        self.fc4 = nn.Linear(hidden_size, 10)\n",
    "\n",
    "    def forward(self, input):\n",
    "        x = F.relu(self.fc1(input))\n",
    "        x = F.relu(self.fc2(x))\n",
    "        x = F.relu(self.fc3(x))\n",
    "        x = F.relu(self.fc4(x))\n",
    "        return x"
   ]
  },
  {
   "cell_type": "code",
   "execution_count": 4,
   "metadata": {},
   "outputs": [
    {
     "name": "stdout",
     "output_type": "stream",
     "text": [
      "cuda IS available\n"
     ]
    }
   ],
   "source": [
    "# https://pytorch.org/docs/stable/notes/cuda.html\n",
    "cuda = torch.cuda.is_available()\n",
    "device = 'cuda' if cuda else 'cpu'\n",
    "\n",
    "if cuda:\n",
    "    print('cuda IS available')\n",
    "else:\n",
    "    print('cuda / GPU not available.')\n",
    "    \n",
    "# torch.cuda.device(1)"
   ]
  },
  {
   "cell_type": "code",
   "execution_count": 5,
   "metadata": {},
   "outputs": [],
   "source": [
    "def get_permute_mnist():\n",
    "    train_loader = {}\n",
    "    test_loader = {}\n",
    "    idx = list(range(28 * 28))\n",
    "    for i in range(num_task):\n",
    "        train_loader[i] = torch.utils.data.DataLoader(PermutedMNIST(train=True, permute_idx=idx),\n",
    "                                                      batch_size=batch_size) #,\n",
    "                                                      # num_workers=4)\n",
    "        test_loader[i] = torch.utils.data.DataLoader(PermutedMNIST(train=False, permute_idx=idx),\n",
    "                                                     batch_size=batch_size)\n",
    "        random.shuffle(idx)\n",
    "    return train_loader, test_loader\n",
    "\n",
    "\n",
    "train_loader, test_loader = get_permute_mnist()"
   ]
  },
  {
   "cell_type": "code",
   "execution_count": 6,
   "metadata": {},
   "outputs": [],
   "source": [
    "def standard_process(epochs, use_cuda=True, weight=True):\n",
    "    model = MLP(hidden_size)\n",
    "    if torch.cuda.is_available() and use_cuda:\n",
    "        model.cuda()\n",
    "\n",
    "    if torch.cuda.device_count() > 1:\n",
    "        print(\"Let's use\", torch.cuda.device_count(), \"GPUs!\")\n",
    "        model = nn.DataParallel(model)\n",
    "        \n",
    "    model.to(device)\n",
    "    \n",
    "    optimizer = optim.SGD(params=model.parameters(), lr=lr)\n",
    "\n",
    "    loss, acc = {}, {}\n",
    "    for task in range(num_task):\n",
    "        loss[task] = []\n",
    "        acc[task] = []\n",
    "        for _ in tqdm(range(epochs)):\n",
    "            loss[task].append(normal_train(model, optimizer, train_loader[task], epoch=task))\n",
    "            for sub_task in range(task + 1):\n",
    "                acc[sub_task].append(test(model, test_loader[sub_task]))\n",
    "        if task == 0 and weight:\n",
    "            weight = model.state_dict()\n",
    "    return loss, acc, weight\n",
    "\n",
    "\n",
    "def ewc_process(epochs, importance, use_cuda=True, weight=None):\n",
    "    model = MLP(hidden_size)\n",
    "    if torch.cuda.is_available() and use_cuda:\n",
    "        model.cuda()\n",
    "        \n",
    "    if torch.cuda.device_count() > 1:\n",
    "        print(\"Let's use\", torch.cuda.device_count(), \"GPUs!\")\n",
    "        model = nn.DataParallel(model)\n",
    "        \n",
    "    model.to(device)\n",
    "        \n",
    "    optimizer = optim.SGD(params=model.parameters(), lr=lr)\n",
    "\n",
    "    loss, acc, ewc = {}, {}, {}\n",
    "    for task in range(num_task):\n",
    "        loss[task] = []\n",
    "        acc[task] = []\n",
    "\n",
    "        if task == 0:\n",
    "            if weight:\n",
    "                model.load_state_dict(weight)\n",
    "            else:\n",
    "                for _ in tqdm(range(epochs)):\n",
    "                    loss[task].append(normal_train(model, optimizer, train_loader[task], epoch=task))\n",
    "                    acc[task].append(test(model, test_loader[task]))\n",
    "        else:\n",
    "            old_tasks = []\n",
    "            for sub_task in range(task):\n",
    "                old_tasks = old_tasks + train_loader[sub_task].dataset.get_sample(sample_size)\n",
    "            old_tasks = random.sample(old_tasks, k=sample_size)\n",
    "            for _ in tqdm(range(epochs)):\n",
    "                loss[task].append(ewc_train(model, optimizer, train_loader[task], EWC(model, old_tasks), importance, epoch=task))\n",
    "                for sub_task in range(task + 1):\n",
    "                    acc[sub_task].append(test(model, test_loader[sub_task]))\n",
    "\n",
    "    return loss, acc"
   ]
  },
  {
   "cell_type": "code",
   "execution_count": 8,
   "metadata": {},
   "outputs": [],
   "source": [
    "def loss_plot(x):\n",
    "    for t, v in x.items():\n",
    "        plt.plot(list(range(t * epochs, (t + 1) * epochs)), v)\n",
    "\n",
    "def accuracy_plot(x):\n",
    "    for t, v in x.items():\n",
    "        plt.plot(list(range(t * epochs, num_task * epochs)), v)\n",
    "    plt.ylim(0, 1)"
   ]
  },
  {
   "cell_type": "code",
   "execution_count": 9,
   "metadata": {},
   "outputs": [
    {
     "name": "stderr",
     "output_type": "stream",
     "text": [
      "100%|█████████████████████████████████████████████████████████████████████████████████████████████████████████████████████████████████████████████████████████████████████████████████████████████████████████| 50/50 [00:55<00:00,  1.11s/it]\n",
      "100%|█████████████████████████████████████████████████████████████████████████████████████████████████████████████████████████████████████████████████████████████████████████████████████████████████████████| 50/50 [01:01<00:00,  1.23s/it]\n",
      "100%|█████████████████████████████████████████████████████████████████████████████████████████████████████████████████████████████████████████████████████████████████████████████████████████████████████████| 50/50 [01:09<00:00,  1.38s/it]\n"
     ]
    }
   ],
   "source": [
    "loss, acc, weight = standard_process(epochs)"
   ]
  },
  {
   "cell_type": "code",
   "execution_count": null,
   "metadata": {},
   "outputs": [],
   "source": []
  },
  {
   "cell_type": "code",
   "execution_count": null,
   "metadata": {},
   "outputs": [],
   "source": [
    "loss_plot(loss)"
   ]
  },
  {
   "cell_type": "code",
   "execution_count": null,
   "metadata": {},
   "outputs": [],
   "source": []
  },
  {
   "cell_type": "code",
   "execution_count": null,
   "metadata": {},
   "outputs": [],
   "source": [
    "accuracy_plot(acc)"
   ]
  },
  {
   "cell_type": "code",
   "execution_count": null,
   "metadata": {},
   "outputs": [],
   "source": [
    "loss_ewc, acc_ewc = ewc_process(epochs, importance=1000, \n",
    "#                                 weight=weight\n",
    "                               )"
   ]
  },
  {
   "cell_type": "code",
   "execution_count": null,
   "metadata": {},
   "outputs": [],
   "source": [
    "loss_plot(loss_ewc)"
   ]
  },
  {
   "cell_type": "code",
   "execution_count": null,
   "metadata": {},
   "outputs": [],
   "source": [
    "accuracy_plot(acc_ewc)"
   ]
  },
  {
   "cell_type": "code",
   "execution_count": null,
   "metadata": {},
   "outputs": [],
   "source": [
    "plt.plot(acc[0], label=\"sgd\")\n",
    "plt.plot(acc_ewc[0], label=\"ewc\")\n",
    "plt.legend()\n"
   ]
  }
 ],
 "metadata": {
  "kernelspec": {
   "display_name": "Python 3",
   "language": "python",
   "name": "python3"
  },
  "language_info": {
   "codemirror_mode": {
    "name": "ipython",
    "version": 3
   },
   "file_extension": ".py",
   "mimetype": "text/x-python",
   "name": "python",
   "nbconvert_exporter": "python",
   "pygments_lexer": "ipython3",
   "version": "3.7.5"
  }
 },
 "nbformat": 4,
 "nbformat_minor": 4
}
